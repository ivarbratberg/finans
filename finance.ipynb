{
  "nbformat": 4,
  "nbformat_minor": 0,
  "metadata": {
    "language_info": {
      "codemirror_mode": {
        "name": "ipython",
        "version": 3
      },
      "file_extension": ".py",
      "mimetype": "text/x-python",
      "name": "python",
      "nbconvert_exporter": "python",
      "pygments_lexer": "ipython3",
      "version": "3.7.3-final"
    },
    "orig_nbformat": 2,
    "kernelspec": {
      "name": "python3",
      "display_name": "Python 3.7.3 64-bit",
      "metadata": {
        "interpreter": {
          "hash": "6e20e4cf813db25a064429209bc2aa0c85672235c9a4586176da9f8980112c00"
        }
      }
    },
    "colab": {
      "name": "finance.ipynb",
      "provenance": []
    }
  },
  "cells": [
    {
      "cell_type": "code",
      "metadata": {
        "id": "wJOwCSRb9rQk",
        "colab": {
          "base_uri": "https://localhost:8080/"
        },
        "outputId": "c8d17406-477f-42f6-a2ce-2ef08ce620b1"
      },
      "source": [
        "!pip install investpy\n",
        "!pip install matplotlib\n",
        "\n"
      ],
      "execution_count": 14,
      "outputs": [
        {
          "output_type": "stream",
          "text": [
            "Requirement already satisfied: investpy in /usr/local/lib/python3.7/dist-packages (1.0.7)\n",
            "Requirement already satisfied: pandas>=0.25.1 in /usr/local/lib/python3.7/dist-packages (from investpy) (1.1.5)\n",
            "Requirement already satisfied: numpy>=1.17.2 in /usr/local/lib/python3.7/dist-packages (from investpy) (1.19.5)\n",
            "Requirement already satisfied: pytz>=2019.3 in /usr/local/lib/python3.7/dist-packages (from investpy) (2021.1)\n",
            "Requirement already satisfied: requests>=2.22.0 in /usr/local/lib/python3.7/dist-packages (from investpy) (2.23.0)\n",
            "Requirement already satisfied: Unidecode>=1.1.1 in /usr/local/lib/python3.7/dist-packages (from investpy) (1.2.0)\n",
            "Requirement already satisfied: setuptools>=41.2.0 in /usr/local/lib/python3.7/dist-packages (from investpy) (57.2.0)\n",
            "Requirement already satisfied: lxml>=4.4.1 in /usr/local/lib/python3.7/dist-packages (from investpy) (4.6.3)\n",
            "Requirement already satisfied: python-dateutil>=2.7.3 in /usr/local/lib/python3.7/dist-packages (from pandas>=0.25.1->investpy) (2.8.1)\n",
            "Requirement already satisfied: six>=1.5 in /usr/local/lib/python3.7/dist-packages (from python-dateutil>=2.7.3->pandas>=0.25.1->investpy) (1.15.0)\n",
            "Requirement already satisfied: urllib3!=1.25.0,!=1.25.1,<1.26,>=1.21.1 in /usr/local/lib/python3.7/dist-packages (from requests>=2.22.0->investpy) (1.24.3)\n",
            "Requirement already satisfied: certifi>=2017.4.17 in /usr/local/lib/python3.7/dist-packages (from requests>=2.22.0->investpy) (2021.5.30)\n",
            "Requirement already satisfied: chardet<4,>=3.0.2 in /usr/local/lib/python3.7/dist-packages (from requests>=2.22.0->investpy) (3.0.4)\n",
            "Requirement already satisfied: idna<3,>=2.5 in /usr/local/lib/python3.7/dist-packages (from requests>=2.22.0->investpy) (2.10)\n",
            "Requirement already satisfied: matplotlib in /usr/local/lib/python3.7/dist-packages (3.2.2)\n",
            "Requirement already satisfied: pyparsing!=2.0.4,!=2.1.2,!=2.1.6,>=2.0.1 in /usr/local/lib/python3.7/dist-packages (from matplotlib) (2.4.7)\n",
            "Requirement already satisfied: python-dateutil>=2.1 in /usr/local/lib/python3.7/dist-packages (from matplotlib) (2.8.1)\n",
            "Requirement already satisfied: numpy>=1.11 in /usr/local/lib/python3.7/dist-packages (from matplotlib) (1.19.5)\n",
            "Requirement already satisfied: kiwisolver>=1.0.1 in /usr/local/lib/python3.7/dist-packages (from matplotlib) (1.3.1)\n",
            "Requirement already satisfied: cycler>=0.10 in /usr/local/lib/python3.7/dist-packages (from matplotlib) (0.10.0)\n",
            "Requirement already satisfied: six in /usr/local/lib/python3.7/dist-packages (from cycler>=0.10->matplotlib) (1.15.0)\n"
          ],
          "name": "stdout"
        }
      ]
    },
    {
      "cell_type": "code",
      "metadata": {
        "id": "Ea8EixlNtPJs",
        "colab": {
          "base_uri": "https://localhost:8080/"
        },
        "outputId": "86b2b0f0-2932-4e62-ce64-35661a3a8883"
      },
      "source": [
        "import datetime\n",
        "import investpy\n",
        "\n",
        "today = datetime.date.today()\n",
        "search_results = investpy.search_quotes(text='yar',\n",
        "                                        products=['stocks'],\n",
        "                                        countries=['norway'],                                        \n",
        "                                        n_results=10)\n",
        "a=search_results[0].retrieve_historical_data(from_date='01/01/2020', to_date=f'{today.day}/{today.month}/{today.year}')\n",
        "print()"
      ],
      "execution_count": 15,
      "outputs": [
        {
          "output_type": "stream",
          "text": [
            "\n"
          ],
          "name": "stdout"
        }
      ]
    },
    {
      "cell_type": "code",
      "metadata": {
        "id": "bHptn6Ad9rQn",
        "colab": {
          "base_uri": "https://localhost:8080/",
          "height": 265
        },
        "outputId": "6bc75022-bfb8-4c74-e177-e6ed28eb9683"
      },
      "source": [
        "import matplotlib.pyplot as plt\n",
        "plt.plot(a['High'])\n",
        "plt.show()"
      ],
      "execution_count": 16,
      "outputs": [
        {
          "output_type": "display_data",
          "data": {
            "image/png": "[encoded data removed]",
            "text/plain": [
              "<Figure size 432x288 with 1 Axes>"
            ]
          },
          "metadata": {
            "tags": [],
            "needs_background": "light"
          }
        }
      ]
    },
    {
      "cell_type": "code",
      "metadata": {
        "id": "mwgnk5bFESDr"
      },
      "source": [
        "ordrer = [('2/8/2021','Klp Aksjeglobal Mer Samfunnsansvar',140.256,250000,'sparing','nkr','sbanken'),\n",
        "          ('5/5/2021','Klp Aksjeglobal Mer Samfunnsansvar',124.77,200000,'sparing','nkr','sbanken'),\n",
        "          ('27/11/2019','Klp Aksjeglobal Mer Samfunnsansvar',171.1,220000,0,'barn','nkr','nordnet'),\n",
        "          ('8/4/2021','odin norge c',12,53190,'barn','nkr','sbanken'), # vist i nkr i sbanken\n",
        "          ('8/4/2021','odin norden c',9.43,37270,'barn','nkr','sbanken'),  # vist i nkr i sbanken\n",
        "          ('1/9/2010','Microsoft',97,97*27.15,'sparing','usd','stockplanconnet')\n",
        "\n",
        "]"
      ],
      "execution_count": 17,
      "outputs": []
    },
    {
      "cell_type": "code",
      "metadata": {
        "id": "jfCj5ywT9rQo",
        "outputId": "5fcbb538-49cd-4fc2-d067-1caa8093b4d7",
        "colab": {
          "base_uri": "https://localhost:8080/",
          "height": 391
        }
      },
      "source": [
        "import pandas as pd\n",
        "import numpy as np\n",
        "\n",
        "# Andre kolonne er antall aksjer for (barn, Ivar, Ivars pensjon)\n",
        "# Siden det kommer mer til pensjon for hver måned, så har jeg foreløpig bare satt \n",
        "# pensjonen til å være 1 million, som den ca var i vår, så kan vi se utviklingen\n",
        "# Ellers er det litt vanskelig å se utviklingen for pensjon\n",
        "# Det betyr at pensjonen ikke er korrekt, fordi den ikke viser de månedlige tilleggene\n",
        "# Pensjonen begynte i Kron ca 1. april 2021\n",
        "p=[('Klp Aksjeglobal Mer Samfunnsansvar', (176, 125 + 141, 205),1,'funds','norway'), # Kjøpte 141 August 2021 250 kkr \n",
        "   ('Klp Aksjeglobal Indeks V', (0,0,142),1,'funds','norway'),\n",
        "   ('Klp Aksje Fremvoksende Marked Indeks II', (0,0,112.5),1,'funds','norway'),\n",
        "   ('Storebrand Indeks - Nye Markeder A', (0,0,17.7),1,'funds','norway'),\n",
        "    ('Microsoft Corporation',(0,97,0),8.5,'stocks','united states'),\n",
        "    ('odin norge c',(12,0,0),1,'funds','norway'),\n",
        "    ('odin norden c',(9.43,0,0),8.5,'funds','norway'),\n",
        "    ('yar',(0,30,0),1,'stocks','norway'),\n",
        "    ('eqnr',(0,50,0),1,'stocks','norway'),\n",
        "    ('Schlumberger NV',(0,0,0),8.5,'stocks','united states')\n",
        "\n",
        "]\n",
        "\n",
        "raw_values = []\n",
        "\n",
        "for i,t in enumerate(p):\n",
        "    print(t[0])\n",
        "    search_results = investpy.search_quotes(text=t[0],\n",
        "                                        products=[t[3]],\n",
        "                                        countries=[t[4]],                                        \n",
        "                                        n_results=10)\n",
        "    a=search_results[0].retrieve_historical_data(from_date='03/03/2020', to_date=f'{today.day}/{today.month}/{today.year}')    \n",
        "    raw_values.append(a)\n",
        "        \n"
      ],
      "execution_count": 19,
      "outputs": [
        {
          "output_type": "stream",
          "text": [
            "Klp Aksjeglobal Mer Samfunnsansvar\n",
            "Klp Aksjeglobal Indeks V\n"
          ],
          "name": "stdout"
        },
        {
          "output_type": "error",
          "ename": "RuntimeError",
          "evalue": "ignored",
          "traceback": [
            "\u001b[0;31m---------------------------------------------------------------------------\u001b[0m",
            "\u001b[0;31mRuntimeError\u001b[0m                              Traceback (most recent call last)",
            "\u001b[0;32m<ipython-input-19-63372273c174>\u001b[0m in \u001b[0;36m<module>\u001b[0;34m()\u001b[0m\n\u001b[1;32m     28\u001b[0m                                         \u001b[0mproducts\u001b[0m\u001b[0;34m=\u001b[0m\u001b[0;34m[\u001b[0m\u001b[0mt\u001b[0m\u001b[0;34m[\u001b[0m\u001b[0;36m3\u001b[0m\u001b[0;34m]\u001b[0m\u001b[0;34m]\u001b[0m\u001b[0;34m,\u001b[0m\u001b[0;34m\u001b[0m\u001b[0;34m\u001b[0m\u001b[0m\n\u001b[1;32m     29\u001b[0m                                         \u001b[0mcountries\u001b[0m\u001b[0;34m=\u001b[0m\u001b[0;34m[\u001b[0m\u001b[0mt\u001b[0m\u001b[0;34m[\u001b[0m\u001b[0;36m4\u001b[0m\u001b[0;34m]\u001b[0m\u001b[0;34m]\u001b[0m\u001b[0;34m,\u001b[0m\u001b[0;34m\u001b[0m\u001b[0;34m\u001b[0m\u001b[0m\n\u001b[0;32m---> 30\u001b[0;31m                                         n_results=10)\n\u001b[0m\u001b[1;32m     31\u001b[0m     \u001b[0ma\u001b[0m\u001b[0;34m=\u001b[0m\u001b[0msearch_results\u001b[0m\u001b[0;34m[\u001b[0m\u001b[0;36m0\u001b[0m\u001b[0;34m]\u001b[0m\u001b[0;34m.\u001b[0m\u001b[0mretrieve_historical_data\u001b[0m\u001b[0;34m(\u001b[0m\u001b[0mfrom_date\u001b[0m\u001b[0;34m=\u001b[0m\u001b[0;34m'03/03/2020'\u001b[0m\u001b[0;34m,\u001b[0m \u001b[0mto_date\u001b[0m\u001b[0;34m=\u001b[0m\u001b[0;34mf'{today.day}/{today.month}/{today.year}'\u001b[0m\u001b[0;34m)\u001b[0m\u001b[0;34m\u001b[0m\u001b[0;34m\u001b[0m\u001b[0m\n\u001b[1;32m     32\u001b[0m     \u001b[0mraw_values\u001b[0m\u001b[0;34m.\u001b[0m\u001b[0mappend\u001b[0m\u001b[0;34m(\u001b[0m\u001b[0ma\u001b[0m\u001b[0;34m)\u001b[0m\u001b[0;34m\u001b[0m\u001b[0;34m\u001b[0m\u001b[0m\n",
            "\u001b[0;32m/usr/local/lib/python3.7/dist-packages/investpy/search.py\u001b[0m in \u001b[0;36msearch_quotes\u001b[0;34m(text, products, countries, n_results)\u001b[0m\n\u001b[1;32m    130\u001b[0m \u001b[0;34m\u001b[0m\u001b[0m\n\u001b[1;32m    131\u001b[0m         \u001b[0;32mif\u001b[0m \u001b[0mdata\u001b[0m\u001b[0;34m[\u001b[0m\u001b[0;34m'total'\u001b[0m\u001b[0;34m]\u001b[0m\u001b[0;34m[\u001b[0m\u001b[0;34m'quotes'\u001b[0m\u001b[0;34m]\u001b[0m \u001b[0;34m==\u001b[0m \u001b[0;36m0\u001b[0m\u001b[0;34m:\u001b[0m\u001b[0;34m\u001b[0m\u001b[0;34m\u001b[0m\u001b[0m\n\u001b[0;32m--> 132\u001b[0;31m             \u001b[0;32mraise\u001b[0m \u001b[0mRuntimeError\u001b[0m\u001b[0;34m(\u001b[0m\u001b[0;34m\"ERR#0093: no results found on Investing.com for the introduced text.\"\u001b[0m\u001b[0;34m)\u001b[0m\u001b[0;34m\u001b[0m\u001b[0;34m\u001b[0m\u001b[0m\n\u001b[0m\u001b[1;32m    133\u001b[0m \u001b[0;34m\u001b[0m\u001b[0m\n\u001b[1;32m    134\u001b[0m         \u001b[0;32mif\u001b[0m \u001b[0mtotal_results\u001b[0m \u001b[0;32mis\u001b[0m \u001b[0;32mNone\u001b[0m\u001b[0;34m:\u001b[0m\u001b[0;34m\u001b[0m\u001b[0;34m\u001b[0m\u001b[0m\n",
            "\u001b[0;31mRuntimeError\u001b[0m: ERR#0093: no results found on Investing.com for the introduced text."
          ]
        }
      ]
    },
    {
      "cell_type": "code",
      "metadata": {
        "id": "k4z-_o0tHF0h"
      },
      "source": [
        "# Get unique dates\n",
        "import pandas as pd\n",
        "\n",
        "portefolje = 0 # 0 er barna, 1 er egen sparing, 2 er pensjon\n",
        "\n",
        "sm = None\n",
        "highs = None\n",
        "cm = pd.DataFrame()\n",
        "\n",
        "a = raw_values[0]\n",
        "u = raw_values[0].index\n",
        "for a in raw_values[1:]:  \n",
        "    u.append(a.index)\n",
        "u = u.unique()\n",
        "cm = pd.DataFrame(u)\n",
        "col_names = ['Date']\n",
        "for a,t in zip(raw_values, p):  \n",
        "  antallAksjer = t[1][portefolje]\n",
        "  if portefolje == -1: # Spesiell, skal summere alle\n",
        "    antallAksjer = sum(t[1])\n",
        "  if antallAksjer == 0:\n",
        "    continue # hvis ingen investering\n",
        "  ser = a['High']*t[2]*antallAksjer\n",
        "  cm=cm.merge(ser, on='Date')\n",
        "  col_names.append(t[0])\n",
        "cm.columns =  col_names # ['a','b','c','d','e','f','g','h']#\n",
        "\n"
      ],
      "execution_count": null,
      "outputs": []
    },
    {
      "cell_type": "code",
      "metadata": {
        "id": "t0dR3SPh9rQo"
      },
      "source": [
        "start_date =  pd.to_datetime('2020-06-03')\n",
        "end_date =  pd.to_datetime('today')\n",
        "mask =  (cm['Date'] > start_date) & (cm['Date'] <= end_date)\n",
        "cm_sub = cm.loc[mask]\n",
        "# print(a.index)\n",
        "\n",
        "sb = cm_sub\n",
        "sb.set_index(['Date'],inplace=True)\n",
        "sb.plot.area()\n",
        "plt.ylim([100000, 500000])\n",
        "plt.grid()\n",
        "plt.show()"
      ],
      "execution_count": null,
      "outputs": []
    },
    {
      "cell_type": "code",
      "metadata": {
        "id": "CozkB5_d-Et1"
      },
      "source": [
        "sm = cm_sub.sum(axis=1)\n",
        "sm = 100*sm/sm[0]\n",
        "plt.plot(sm)\n",
        "plt.show()"
      ],
      "execution_count": null,
      "outputs": []
    },
    {
      "cell_type": "code",
      "metadata": {
        "id": "2JItJNtX9eTz"
      },
      "source": [
        ""
      ],
      "execution_count": null,
      "outputs": []
    }
  ]
}